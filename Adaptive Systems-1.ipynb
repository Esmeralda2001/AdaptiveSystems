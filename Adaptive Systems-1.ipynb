{
 "cells": [
  {
   "cell_type": "code",
   "execution_count": 11,
   "metadata": {},
   "outputs": [],
   "source": [
    "from Agent import Agent\n",
    "from Grid import Grid"
   ]
  },
  {
   "cell_type": "markdown",
   "metadata": {},
   "source": [
    "# 3.1\n",
    "De code achter alle functies is te vinden in de zelf geschreven Grid en Agent Class. "
   ]
  },
  {
   "cell_type": "code",
   "execution_count": 19,
   "metadata": {},
   "outputs": [
    {
     "name": "stdout",
     "output_type": "stream",
     "text": [
      "[[0 0 0 0]\n",
      " [0 0 0 0]\n",
      " [0 0 0 0]\n",
      " [0 1 0 0]]\n"
     ]
    }
   ],
   "source": [
    "grid_movement_demo = Grid(width=4, height=4, terminal=[(3, 0), (0, 3), (3, 1)], start=(3, 2), prob=1)\n",
    "print(str(grid.grid))"
   ]
  },
  {
   "cell_type": "code",
   "execution_count": 20,
   "metadata": {},
   "outputs": [],
   "source": [
    "rewards = [\n",
    "        [-1, -1, -1, 40],\n",
    "        [-1, -1, -10, -10],\n",
    "        [-1, -1, -1, -1],\n",
    "        [10, -2, -1, -1]\n",
    "]"
   ]
  },
  {
   "cell_type": "code",
   "execution_count": 21,
   "metadata": {},
   "outputs": [
    {
     "name": "stdout",
     "output_type": "stream",
     "text": [
      "[[ -1  -1  -1  40]\n",
      " [ -1  -1 -10 -10]\n",
      " [ -1  -1  -1  -1]\n",
      " [ 10  -2  -1  -1]]\n"
     ]
    }
   ],
   "source": [
    "grid_movement_demo.set(rewards)\n",
    "print(str(grid.rewards))"
   ]
  },
  {
   "cell_type": "markdown",
   "metadata": {},
   "source": [
    "De '1' in deze numpy array staat voor agent. "
   ]
  },
  {
   "cell_type": "code",
   "execution_count": 22,
   "metadata": {},
   "outputs": [
    {
     "name": "stdout",
     "output_type": "stream",
     "text": [
      "Moving right..\n",
      "[[0 0 0 0]\n",
      " [0 0 0 0]\n",
      " [0 0 0 0]\n",
      " [0 0 0 1]]\n",
      "------\n",
      "[[0 0 0 0]\n",
      " [0 0 0 0]\n",
      " [0 0 0 0]\n",
      " [0 0 0 1]]\n",
      "------\n",
      "Moving up..\n",
      "[[0 0 0 0]\n",
      " [0 0 0 0]\n",
      " [0 0 0 1]\n",
      " [0 0 0 0]]\n",
      "------\n",
      "[[0 0 0 0]\n",
      " [0 0 0 1]\n",
      " [0 0 0 0]\n",
      " [0 0 0 0]]\n",
      "------\n",
      "Moving left..\n",
      "[[0 0 0 0]\n",
      " [0 0 1 0]\n",
      " [0 0 0 0]\n",
      " [0 0 0 0]]\n",
      "------\n",
      "[[0 0 0 0]\n",
      " [0 1 0 0]\n",
      " [0 0 0 0]\n",
      " [0 0 0 0]]\n",
      "------\n",
      "Moving down..\n",
      "[[0 0 0 0]\n",
      " [0 0 0 0]\n",
      " [0 1 0 0]\n",
      " [0 0 0 0]]\n",
      "------\n",
      "[[0 0 0 0]\n",
      " [0 0 0 0]\n",
      " [0 0 0 0]\n",
      " [0 1 0 0]]\n",
      "------\n"
     ]
    }
   ],
   "source": [
    "agent = Agent(grid.start)\n",
    "grid_movement_demo.set_agent(agent)\n",
    "grid_movement_demo.demonstrate_movement(agent)"
   ]
  },
  {
   "cell_type": "code",
   "execution_count": 23,
   "metadata": {},
   "outputs": [
    {
     "name": "stdout",
     "output_type": "stream",
     "text": [
      "Moving right..\n",
      "[[0 0 0 0]\n",
      " [0 0 0 0]\n",
      " [0 0 0 0]\n",
      " [0 0 0 1]]\n",
      "------\n",
      "Moving  <  instead\n",
      "[[0 0 0 0]\n",
      " [0 0 0 0]\n",
      " [0 0 0 0]\n",
      " [0 0 1 0]]\n",
      "------\n",
      "Moving up..\n",
      "[[0 0 0 0]\n",
      " [0 0 0 0]\n",
      " [0 0 1 0]\n",
      " [0 0 0 0]]\n",
      "------\n",
      "Moving  >  instead\n",
      "[[0 0 0 0]\n",
      " [0 0 0 0]\n",
      " [0 0 0 1]\n",
      " [0 0 0 0]]\n",
      "------\n",
      "Moving left..\n",
      "[[0 0 0 0]\n",
      " [0 0 0 0]\n",
      " [0 0 1 0]\n",
      " [0 0 0 0]]\n",
      "------\n",
      "Moving  >  instead\n",
      "[[0 0 0 0]\n",
      " [0 0 0 0]\n",
      " [0 0 0 1]\n",
      " [0 0 0 0]]\n",
      "------\n",
      "Moving down..\n",
      "Moving  >  instead\n",
      "[[0 0 0 0]\n",
      " [0 0 0 0]\n",
      " [0 0 0 1]\n",
      " [0 0 0 0]]\n",
      "------\n",
      "Moving  <  instead\n",
      "[[0 0 0 0]\n",
      " [0 0 0 0]\n",
      " [0 0 1 0]\n",
      " [0 0 0 0]]\n",
      "------\n"
     ]
    }
   ],
   "source": [
    "grid_movement_demo2 = Grid(width=4, height=4, terminal=[(3, 0), (0, 3), (3, 1)], start=(3, 2))\n",
    "agent2 = Agent(grid_movement_demo2.start)\n",
    "grid_movement_demo2.set_agent(agent2)\n",
    "grid_movement_demo2.demonstrate_movement(agent2)"
   ]
  },
  {
   "cell_type": "markdown",
   "metadata": {},
   "source": [
    "# 3.2\n",
    "Eerst wordt de utility van iedere state berekend."
   ]
  },
  {
   "cell_type": "code",
   "execution_count": 27,
   "metadata": {},
   "outputs": [
    {
     "name": "stdout",
     "output_type": "stream",
     "text": [
      "Iteration  0\n",
      "----------------------------------------------\n",
      "[[-2 -2 80  0]\n",
      " [-2 -2 -2 80]\n",
      " [20 -2 -2 -2]\n",
      " [ 0  0 -2 -2]]\n",
      "[['>' '<' '>' 'X']\n",
      " ['>' '<' '<' '^']\n",
      " ['V' '<' '<' '<']\n",
      " ['X' 'X' '>' '<']]\n",
      "80\n",
      "Iteration  1\n",
      "----------------------------------------------\n",
      "[[-4 78 80  0]\n",
      " [18 76 78 80]\n",
      " [20 74 72 70]\n",
      " [ 0  0 70 68]]\n",
      "[['>' '>' '>' 'X']\n",
      " ['V' '^' '^' '^']\n",
      " ['V' '^' '<' '<']\n",
      " ['X' 'X' '^' '<']]\n",
      "80\n",
      "Iteration  2\n",
      "----------------------------------------------\n",
      "[[76 78 80  0]\n",
      " [74 76 78 80]\n",
      " [72 74 72 70]\n",
      " [ 0  0 70 68]]\n",
      "[['>' '>' '>' 'X']\n",
      " ['>' '^' '^' '^']\n",
      " ['>' '^' '<' '<']\n",
      " ['X' 'X' '^' '<']]\n",
      "80\n",
      "Iteration  3\n",
      "----------------------------------------------\n",
      "[[76 78 80  0]\n",
      " [74 76 78 80]\n",
      " [72 74 72 70]\n",
      " [ 0  0 70 68]]\n",
      "[['>' '>' '>' 'X']\n",
      " ['>' '^' '^' '^']\n",
      " ['>' '^' '<' '<']\n",
      " ['X' 'X' '^' '<']]\n",
      "0\n"
     ]
    },
    {
     "data": {
      "text/plain": [
       "array([[75, 77, 79, 40],\n",
       "       [73, 75, 68, 70],\n",
       "       [71, 73, 71, 69],\n",
       "       [10, -2, 69, 67]])"
      ]
     },
     "execution_count": 27,
     "metadata": {},
     "output_type": "execute_result"
    }
   ],
   "source": [
    "grid = Grid(width=4, height=4, terminal=[[3, 0], [0, 3], [3, 1]], start=(3, 2), prob=1)\n",
    "grid.set(rewards)\n",
    "\n",
    "agent3 = Agent(grid.start)\n",
    "grid.set_agent(agent3)\n",
    "\n",
    "grid.value_iteration()"
   ]
  },
  {
   "cell_type": "markdown",
   "metadata": {},
   "source": [
    "Daarna pas probeert de agent het gegeven pad (policy) te volgen. "
   ]
  },
  {
   "cell_type": "code",
   "execution_count": 28,
   "metadata": {},
   "outputs": [
    {
     "name": "stdout",
     "output_type": "stream",
     "text": [
      "[0 0 0 0] ['>' '>' '>' 'X']\n",
      "[0 0 0 0] ['>' '^' '^' '^']\n",
      "[0 0 0 0] ['>' '^' '<' '<']\n",
      "[0 0 1 0] ['X' 'X' '^' '<']\n",
      "\n",
      " ---------------------\n",
      "[0 0 0 0] ['>' '>' '>' 'X']\n",
      "[0 0 0 0] ['>' '^' '^' '^']\n",
      "[0 0 1 0] ['>' '^' '<' '<']\n",
      "[0 0 0 0] ['X' 'X' '^' '<']\n",
      "\n",
      " ---------------------\n",
      "[0 0 0 0] ['>' '>' '>' 'X']\n",
      "[0 0 0 0] ['>' '^' '^' '^']\n",
      "[0 1 0 0] ['>' '^' '<' '<']\n",
      "[0 0 0 0] ['X' 'X' '^' '<']\n",
      "\n",
      " ---------------------\n",
      "[0 0 0 0] ['>' '>' '>' 'X']\n",
      "[0 1 0 0] ['>' '^' '^' '^']\n",
      "[0 0 0 0] ['>' '^' '<' '<']\n",
      "[0 0 0 0] ['X' 'X' '^' '<']\n",
      "\n",
      " ---------------------\n",
      "[0 1 0 0] ['>' '>' '>' 'X']\n",
      "[0 0 0 0] ['>' '^' '^' '^']\n",
      "[0 0 0 0] ['>' '^' '<' '<']\n",
      "[0 0 0 0] ['X' 'X' '^' '<']\n",
      "\n",
      " ---------------------\n",
      "[0 0 1 0] ['>' '>' '>' 'X']\n",
      "[0 0 0 0] ['>' '^' '^' '^']\n",
      "[0 0 0 0] ['>' '^' '<' '<']\n",
      "[0 0 0 0] ['X' 'X' '^' '<']\n",
      "\n",
      " ---------------------\n",
      "[0 0 0 1] ['>' '>' '>' 'X']\n",
      "[0 0 0 0] ['>' '^' '^' '^']\n",
      "[0 0 0 0] ['>' '^' '<' '<']\n",
      "[0 0 0 0] ['X' 'X' '^' '<']\n",
      "\n",
      " ---------------------\n"
     ]
    }
   ],
   "source": [
    "grid.traverse_path(agent3)"
   ]
  },
  {
   "cell_type": "code",
   "execution_count": null,
   "metadata": {},
   "outputs": [],
   "source": []
  }
 ],
 "metadata": {
  "kernelspec": {
   "display_name": "Python 3",
   "language": "python",
   "name": "python3"
  },
  "language_info": {
   "codemirror_mode": {
    "name": "ipython",
    "version": 3
   },
   "file_extension": ".py",
   "mimetype": "text/x-python",
   "name": "python",
   "nbconvert_exporter": "python",
   "pygments_lexer": "ipython3",
   "version": "3.7.3"
  }
 },
 "nbformat": 4,
 "nbformat_minor": 2
}
